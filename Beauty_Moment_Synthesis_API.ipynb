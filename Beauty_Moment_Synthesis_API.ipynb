{
  "cells": [
    {
      "cell_type": "code",
      "execution_count": null,
      "metadata": {
        "colab": {
          "base_uri": "https://localhost:8080/"
        },
        "id": "zK4bAamMVODa",
        "outputId": "2f9864e8-5aea-4877-b95f-1e51ff59529a"
      },
      "outputs": [],
      "source": [
        "!git clone https://github.com/MeowwMeoww/BeautyMomentSynthesis.git"
      ]
    },
    {
      "cell_type": "code",
      "execution_count": null,
      "metadata": {
        "colab": {
          "base_uri": "https://localhost:8080/"
        },
        "id": "GQTqQU3ABIdj",
        "outputId": "593e80d6-9d51-4489-97bd-3bd3ab866ed4"
      },
      "outputs": [],
      "source": [
        "%cd /content/BeautyMomentSynthesis\n",
        "!pip install -r requirements.txt"
      ]
    },
    {
      "cell_type": "code",
      "execution_count": null,
      "metadata": {
        "colab": {
          "base_uri": "https://localhost:8080/"
        },
        "id": "Qgxa_u3KnvJk",
        "outputId": "5073b1f8-2f44-4aea-843d-cb97b4ed673a"
      },
      "outputs": [],
      "source": [
        "!ngrok authtoken token"
      ]
    },
    {
      "cell_type": "code",
      "execution_count": null,
      "metadata": {
        "colab": {
          "background_save": true,
          "base_uri": "https://localhost:8080/"
        },
        "id": "_xduqnLRx8Gv",
        "outputId": "2b7d5f11-ab18-4080-a890-10fbda136e34"
      },
      "outputs": [],
      "source": [
        "from flask import Flask, request\n",
        "from flask_ngrok import run_with_ngrok\n",
        "from contextlib import contextmanager\n",
        "import sys, os\n",
        "import shutil\n",
        "import json\n",
        "from flask_cors import CORS, cross_origin\n",
        "import re\n",
        "import zipfile\n",
        "import gdown\n",
        "\n",
        "app = Flask(__name__)\n",
        "cors = CORS(app)\n",
        "app.config['CORS_HEADERS'] = 'Content-Type'\n",
        "\n",
        "\n",
        "def unzip_and_save(url, purpose):\n",
        "  os.makedirs('/content/zip_files', exist_ok = True)\n",
        "  gg_drive_flag = 'drive.google.com' in url \n",
        "\n",
        "  if gg_drive_flag: #if True, the link is a shareable link from gg drive\n",
        "    url = re.findall('[-\\w]{25,}', url)[0]\n",
        "    url = 'https://drive.google.com/uc?id=' + url\n",
        "\n",
        "  if purpose == 'anchor':\n",
        "    os.makedirs('/content/images/anchor_images', exist_ok = True)\n",
        "    gdown.download(url , '/content/zip_files/anchor.zip', quiet = True)\n",
        "    with zipfile.ZipFile('/content/zip_files/anchor.zip', 'r') as zip_ref:\n",
        "      zip_ref.extractall('/content/images/anchor_images')\n",
        "\n",
        "  elif purpose == 'input':\n",
        "    os.makedirs('/content/images/original_images', exist_ok = True)\n",
        "    gdown.download(url , '/content/zip_files/original.zip', quiet = True)\n",
        "    with zipfile.ZipFile('/content/zip_files/original.zip', 'r') as zip_ref:\n",
        "      zip_ref.extractall('/content/images/original_images')\n",
        "\n",
        "\n",
        "@contextmanager\n",
        "def suppress_stdout():\n",
        "    with open(os.devnull, \"w\") as devnull:\n",
        "        old_stdout = sys.stdout\n",
        "        sys.stdout = devnull\n",
        "        try:  \n",
        "            yield\n",
        "        finally:\n",
        "            sys.stdout = old_stdout\n",
        "\n",
        "\n",
        "def running_program(anchor_url = '/content/images/anchor_images', input_url = '/content/images/original_images', people_names = None):\n",
        "  %cd /content/BeautyMomentSynthesis\n",
        "  with suppress_stdout():\n",
        "    if people_names != '':\n",
        "      !python 'main.py' --anchor_dataset_path '{anchor_url}' --original_dataset_path '{input_url}' --output_path \"/content/drive/MyDrive/Demo Beauty Moment Synthesis/final_video.avi\" --auto_vid_params True --find_person people_names --number_of_images 20 \n",
        "    else:\n",
        "      !python 'main.py' --anchor_dataset_path '{anchor_url}' --original_dataset_path '{input_url}' --output_path \"/content/drive/MyDrive/Demo Beauty Moment Synthesis/final_video.avi\" --auto_vid_params True  --number_of_images 20 \n",
        "\n",
        "\n",
        "def clear_program(img_url = '/content/images', zip_url = '/content/zip_files'):\n",
        "  if os.path.exists(img_url) and os.path.exists(zip_url):\n",
        "    shutil.rmtree(img_url)\n",
        "    shutil.rmtree(zip_url)\n",
        "\n",
        "\n",
        "@app.route('/', methods = ['POST', 'GET'])\n",
        "@cross_origin()\n",
        "def get_result():\n",
        "  %cd /content\n",
        "  data = request.get_json(force = True)\n",
        "  data = json.loads(data)\n",
        "  anchor_provided_url = data[\"anchor_path\"]\n",
        "  input_provided_url = data[\"input_path\"]\n",
        "  people_names = data[\"people_names\"]\n",
        "  unzip_and_save(anchor_provided_url, 'anchor')\n",
        "  unzip_and_save(input_provided_url, 'input')\n",
        "  running_program(people_names)\n",
        "  clear_program()\n",
        "\n",
        "  dict_result = {'video_path' : 'https://drive.google.com/file/d/1mJDe6l_M5Uzjk4quoRDi4dI5VMbcGeCl/view?usp=sharing'}\n",
        "\n",
        "  return json.dumps(dict_result)\n",
        " \n",
        "\n",
        "run_with_ngrok(app)\n",
        "\n",
        "app.run()"
      ]
    }
  ],
  "metadata": {
    "accelerator": "GPU",
    "colab": {
      "collapsed_sections": [],
      "name": "Beauty Moment Synthesis API",
      "provenance": []
    },
    "gpuClass": "standard",
    "kernelspec": {
      "display_name": "Python 3.7.8 64-bit",
      "language": "python",
      "name": "python3"
    },
    "language_info": {
      "codemirror_mode": {
        "name": "ipython",
        "version": 3
      },
      "file_extension": ".py",
      "mimetype": "text/x-python",
      "name": "python",
      "nbconvert_exporter": "python",
      "pygments_lexer": "ipython3",
      "version": "3.7.8"
    },
    "vscode": {
      "interpreter": {
        "hash": "0a54084e6b208ee8d1ce3989ffc20924477a5f55f5a43e22e699a6741623861e"
      }
    }
  },
  "nbformat": 4,
  "nbformat_minor": 0
}
